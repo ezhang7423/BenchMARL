{
 "cells": [
  {
   "cell_type": "code",
   "execution_count": null,
   "metadata": {},
   "outputs": [],
   "source": [
    "#probably what i need to do:\n",
    "# 1. follow examples/extending/model/custom_model.py\n",
    "# 2. create test harness to iterate quickly and find bugs\n",
    "# 3. try modifying (1) to get to a simple? melting pot env. or just directly to sed apple picking env...\n"
   ]
  }
 ],
 "metadata": {
  "language_info": {
   "name": "python"
  }
 },
 "nbformat": 4,
 "nbformat_minor": 2
}
